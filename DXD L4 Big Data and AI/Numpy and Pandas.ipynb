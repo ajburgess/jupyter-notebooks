{
 "cells": [
  {
   "cell_type": "markdown",
   "metadata": {},
   "source": [
    "# Numpy\n",
    "\n",
    "We will begin with Numpy as this is the foundation for other AI libraries and will also be useful if you want to create any dummy datasets.\n",
    "\n",
    "We will begin by importing numpy with the common alias **np**"
   ]
  },
  {
   "cell_type": "code",
   "execution_count": null,
   "metadata": {},
   "outputs": [],
   "source": [
    "import numpy as np"
   ]
  },
  {
   "cell_type": "markdown",
   "metadata": {},
   "source": [
    "## Numpy array \n",
    "\n",
    "* An array can be created by passing through an object to `np.array(object)`\n",
    "* ndarray - N-dimensional array\n",
    "    * Quicker than python collections\n",
    "    * Data must be the same type \n",
    "        * `dtype` during creation of an array to decide the type\n",
    "        * `.astype()` after creation to change the data type of the objects in the array\n",
    "    * They have a **shape** and **size** attribute\n",
    "        * You can change shape but not the size\n",
    "* We often need to transpose matrix for multiplication using `.T`"
   ]
  },
  {
   "cell_type": "code",
   "execution_count": null,
   "metadata": {},
   "outputs": [],
   "source": [
    "ages_list = [20, 49, 17, 56, 18, 70]\n",
    "ages_arr = np.array(ages_list)\n",
    "print(ages_arr)"
   ]
  },
  {
   "cell_type": "code",
   "execution_count": null,
   "metadata": {},
   "outputs": [],
   "source": [
    "ages = np.array((20, 49, 17, 56, 18, 70))\n",
    "print(ages)\n",
    "print(type(ages))"
   ]
  },
  {
   "cell_type": "code",
   "execution_count": null,
   "metadata": {},
   "outputs": [],
   "source": [
    "print('Size:  ', ages.size)\n",
    "print('Shape:  ', ages.shape)"
   ]
  },
  {
   "cell_type": "code",
   "execution_count": null,
   "metadata": {},
   "outputs": [],
   "source": [
    "ages.reshape(3,2)"
   ]
  },
  {
   "cell_type": "code",
   "execution_count": null,
   "metadata": {},
   "outputs": [],
   "source": [
    "ages"
   ]
  },
  {
   "cell_type": "code",
   "execution_count": null,
   "metadata": {},
   "outputs": [],
   "source": [
    "# indexing and slicing is the same as python collections\n",
    "print('first', ages[0])\n",
    "print('last', ages[-1])\n",
    "print('slice', ages[2:5])"
   ]
  },
  {
   "cell_type": "code",
   "execution_count": null,
   "metadata": {},
   "outputs": [],
   "source": [
    "ages.shape = (6, 1) #2 dimensional\n",
    "ages "
   ]
  },
  {
   "cell_type": "code",
   "execution_count": null,
   "metadata": {},
   "outputs": [],
   "source": [
    "ages.reshape(3,2,1) # 3 dimesional etc..."
   ]
  },
  {
   "cell_type": "code",
   "execution_count": null,
   "metadata": {},
   "outputs": [],
   "source": [
    "ages.shape = (3,2)\n",
    "ages"
   ]
  },
  {
   "cell_type": "code",
   "execution_count": null,
   "metadata": {},
   "outputs": [],
   "source": [
    "ages.T"
   ]
  },
  {
   "cell_type": "code",
   "execution_count": null,
   "metadata": {},
   "outputs": [],
   "source": [
    "ages.shape = (6,)\n",
    "print(ages)\n",
    "print(ages.dtype)"
   ]
  },
  {
   "cell_type": "code",
   "execution_count": null,
   "metadata": {},
   "outputs": [],
   "source": [
    "ages = np.array((20, 49, 17, 56, 18, 70), dtype='str')\n",
    "print(ages)\n",
    "print(ages.dtype)"
   ]
  },
  {
   "cell_type": "code",
   "execution_count": null,
   "metadata": {},
   "outputs": [],
   "source": [
    "ages.astype('float')"
   ]
  },
  {
   "cell_type": "markdown",
   "metadata": {},
   "source": [
    "## Further array creation\n",
    "\n",
    "Rather than passing through object numpy can create arrays for us. This can be useful for plotting graphs, creating dummy datasets etc. Below are some of the different functions available:\n",
    "\n",
    "* `np.arange(start, stop, step)` - a range of numbers between the start and stop(not inclusive) values\n",
    "* `np.linspace(start, stop, N)` - N evenly spaced numbers between the start and stop (inclusive)\n",
    "* `np.zeros(N)` - array of N zeros\n",
    "* `np.eye(N)` - identity matrix\n",
    "* `np.random.choice()` - \n",
    "* `np.random.normal(mean, standard_deviation, N)` "
   ]
  },
  {
   "cell_type": "code",
   "execution_count": null,
   "metadata": {},
   "outputs": [],
   "source": [
    "pi_range = np.arange(-np.pi, 2*np.pi, 0.5)\n",
    "pi_range"
   ]
  },
  {
   "cell_type": "code",
   "execution_count": null,
   "metadata": {},
   "outputs": [],
   "source": [
    "spaced = np.linspace(0, 20, 7)\n",
    "spaced"
   ]
  },
  {
   "cell_type": "code",
   "execution_count": null,
   "metadata": {},
   "outputs": [],
   "source": [
    "zeros = np.zeros(5)\n",
    "zeros"
   ]
  },
  {
   "cell_type": "code",
   "execution_count": null,
   "metadata": {
    "scrolled": true
   },
   "outputs": [],
   "source": [
    "I = np.eye(5)\n",
    "I"
   ]
  },
  {
   "cell_type": "code",
   "execution_count": null,
   "metadata": {
    "scrolled": true
   },
   "outputs": [],
   "source": [
    "coin = np.random.choice(['H','T'], 10) #Fair coin\n",
    "coin"
   ]
  },
  {
   "cell_type": "code",
   "execution_count": null,
   "metadata": {},
   "outputs": [],
   "source": [
    "unfair_coin = np.random.choice(['H', 'H', 'T'], 10) #Fair coin\n",
    "unfair_coin"
   ]
  },
  {
   "cell_type": "code",
   "execution_count": null,
   "metadata": {},
   "outputs": [],
   "source": [
    "samp = np.random.normal(10, 3, 10)\n",
    "samp"
   ]
  },
  {
   "cell_type": "markdown",
   "metadata": {},
   "source": [
    "# Operations\n",
    "\n",
    "* Operations are performed element wise on arrays\n",
    "* Statisical operations are easy to calculate"
   ]
  },
  {
   "cell_type": "code",
   "execution_count": null,
   "metadata": {},
   "outputs": [],
   "source": [
    "even_list = [0, 2, 4, 6, 8, 10, 12, 14, 16, 18, 20]\n",
    "even_list * 2"
   ]
  },
  {
   "cell_type": "code",
   "execution_count": null,
   "metadata": {},
   "outputs": [],
   "source": [
    "evens = np.array(even_list)\n",
    "print('Array', evens)\n",
    "print('Addition:\\n', evens + 5)\n",
    "print('Subtraction:\\n', evens - 5)\n",
    "print('Multiplaction:\\n', evens * 2)\n",
    "print('Division:\\n', evens / 2)\n",
    "print('Modulus:\\n', evens % 5) # Remainder\n",
    "print('Less than 10\\n:', evens < 10)\n",
    "\n",
    "# can combine operations\n",
    "print('Multiples of 5:\\n', evens % 5 == 0)\n"
   ]
  },
  {
   "cell_type": "code",
   "execution_count": null,
   "metadata": {},
   "outputs": [],
   "source": [
    "print(pi_range, '\\n')\n",
    "print('min:', np.min(pi_range).round(2))\n",
    "print('max:', np.max(pi_range))\n",
    "print('sum:', np.sum(pi_range))\n",
    "print('mean:', np.mean(pi_range))\n",
    "print('median:', np.median(pi_range))\n",
    "print('var:', np.var(pi_range))\n",
    "print('std:', np.std(pi_range))"
   ]
  },
  {
   "cell_type": "markdown",
   "metadata": {},
   "source": [
    "# Pandas\n",
    "\n",
    "* Key module for handling datasets\n",
    "* Time series data\n",
    "* import Pandas with common alias **pd**"
   ]
  },
  {
   "cell_type": "code",
   "execution_count": null,
   "metadata": {},
   "outputs": [],
   "source": [
    "import pandas as pd"
   ]
  },
  {
   "cell_type": "code",
   "execution_count": null,
   "metadata": {},
   "outputs": [],
   "source": [
    "np.random.seed(2) # make the random numbers predictable\n",
    "salary = np.random.normal(50, 20, 50)\n",
    "salary"
   ]
  },
  {
   "cell_type": "markdown",
   "metadata": {},
   "source": [
    "## Data Series\n",
    "\n",
    "* Generalised list with advanced indexing\n",
    "* Series will have an **index** and **value**\n",
    "    * You can use custom indexing\n",
    "* Element wise operations (as above)\n",
    "* Filtering - if we want to remove data or create another series\n",
    "    * Filter using logic and boolean operations and create new Series with different size\n",
    "    * `.where()` - if number meets condition keep otherwise NaN. Preserve size\n",
    "    * `.mask()` - if number meets condition then mask. Preserve size\n",
    "    * NaN - Not A Number - somewhere where you expect a number but there isn't "
   ]
  },
  {
   "cell_type": "code",
   "execution_count": null,
   "metadata": {},
   "outputs": [],
   "source": [
    "ds_salary = pd.Series(salary.round(2))\n",
    "ds_salary"
   ]
  },
  {
   "cell_type": "code",
   "execution_count": null,
   "metadata": {},
   "outputs": [],
   "source": [
    "print('index:', ds_salary.index)\n",
    "print('values:\\n', ds_salary.values)"
   ]
  },
  {
   "cell_type": "code",
   "execution_count": null,
   "metadata": {},
   "outputs": [],
   "source": [
    "print('first', ds_salary[0])\n",
    "print('slice\\n', ds_salary[10:20])\n",
    "# cannot do ds_salay[-1]"
   ]
  },
  {
   "cell_type": "code",
   "execution_count": null,
   "metadata": {},
   "outputs": [],
   "source": [
    "ds_salary * 1000"
   ]
  },
  {
   "cell_type": "code",
   "execution_count": null,
   "metadata": {},
   "outputs": [],
   "source": [
    "ds_salary < 20"
   ]
  },
  {
   "cell_type": "code",
   "execution_count": null,
   "metadata": {},
   "outputs": [],
   "source": [
    "low_sal = ds_salary[ds_salary < 20]\n",
    "low_sal"
   ]
  },
  {
   "cell_type": "code",
   "execution_count": null,
   "metadata": {},
   "outputs": [],
   "source": [
    "ds_where = ds_salary.where(ds_salary < 20)\n",
    "ds_where"
   ]
  },
  {
   "cell_type": "code",
   "execution_count": null,
   "metadata": {},
   "outputs": [],
   "source": [
    "ds_mask = ds_salary.mask(ds_salary<20)\n",
    "ds_mask"
   ]
  },
  {
   "cell_type": "code",
   "execution_count": null,
   "metadata": {},
   "outputs": [],
   "source": [
    "salaries = ['Salary ' + str(i) for i in range(1, 51)]\n",
    "ds_salary.index = salaries"
   ]
  },
  {
   "cell_type": "code",
   "execution_count": null,
   "metadata": {},
   "outputs": [],
   "source": [
    "ds_salary"
   ]
  },
  {
   "cell_type": "code",
   "execution_count": null,
   "metadata": {},
   "outputs": [],
   "source": [
    "ds_salary.value_counts() # count of all unique values"
   ]
  },
  {
   "cell_type": "code",
   "execution_count": null,
   "metadata": {
    "scrolled": true
   },
   "outputs": [],
   "source": [
    "ds_salary.sort_values()"
   ]
  },
  {
   "cell_type": "markdown",
   "metadata": {},
   "source": [
    "# Data Frame\n",
    "\n",
    "* DataFrames are tables\n",
    "* They are collection of Data series\n",
    "* Seaborn has sample datasets which we can read as data sets\n",
    "   *  **NOTE** - we will look at seaborn in more detail\n",
    "* `.describe()` - useful method to get summary statistics from dataframe\n",
    "* Easy data manipulation and handling"
   ]
  },
  {
   "cell_type": "code",
   "execution_count": null,
   "metadata": {
    "scrolled": true
   },
   "outputs": [],
   "source": [
    "df_sal = pd.DataFrame({\n",
    "    'Salary No': salaries,\n",
    "    'Salary': salary\n",
    "})\n",
    "df_sal.head() #by default will show the first 5 rows"
   ]
  },
  {
   "cell_type": "code",
   "execution_count": null,
   "metadata": {},
   "outputs": [],
   "source": [
    "df_sal.describe()"
   ]
  },
  {
   "cell_type": "code",
   "execution_count": null,
   "metadata": {},
   "outputs": [],
   "source": [
    "import seaborn as sns"
   ]
  },
  {
   "cell_type": "code",
   "execution_count": null,
   "metadata": {},
   "outputs": [],
   "source": [
    "titanic = sns.load_dataset('titanic')\n",
    "titanic.head()"
   ]
  },
  {
   "cell_type": "code",
   "execution_count": null,
   "metadata": {},
   "outputs": [],
   "source": [
    "titanic.info()"
   ]
  },
  {
   "cell_type": "markdown",
   "metadata": {},
   "source": [
    "## Missing values\n",
    "\n",
    "* You can do easy checks for missing values\n",
    "* You can't leave them in the sample as NaN as you won't be able to create a model so we have to deal with them\n",
    "* Handling NaN:\n",
    "    * Remove them from the sample\n",
    "    * Replace them with the mean values for that column\n",
    "    * Use ML to predict the values \n",
    "    * Encode them as -1 or -9999 or a categorical values"
   ]
  },
  {
   "cell_type": "code",
   "execution_count": null,
   "metadata": {
    "scrolled": false
   },
   "outputs": [],
   "source": [
    "titanic.isnull().sum() # check for missing values"
   ]
  },
  {
   "cell_type": "code",
   "execution_count": null,
   "metadata": {},
   "outputs": [],
   "source": [
    "titanic.dropna(inplace=True)"
   ]
  },
  {
   "cell_type": "code",
   "execution_count": null,
   "metadata": {
    "scrolled": true
   },
   "outputs": [],
   "source": [
    "titanic.isnull().sum()"
   ]
  },
  {
   "cell_type": "code",
   "execution_count": null,
   "metadata": {},
   "outputs": [],
   "source": [
    "titanic"
   ]
  },
  {
   "cell_type": "markdown",
   "metadata": {},
   "source": [
    "# Searching data\n",
    "\n",
    "* `.loc(row, column)` - access using labels\n",
    "* `.iloc(row, column)` - indices access"
   ]
  },
  {
   "cell_type": "code",
   "execution_count": null,
   "metadata": {},
   "outputs": [],
   "source": [
    "titanic.loc[:,'age'] #all rows, 'age' column"
   ]
  },
  {
   "cell_type": "code",
   "execution_count": null,
   "metadata": {},
   "outputs": [],
   "source": [
    "titanic.loc[:20, 'age'] #labels up to 20, for 'age' column NOTE we dropped NaN values"
   ]
  },
  {
   "cell_type": "code",
   "execution_count": null,
   "metadata": {},
   "outputs": [],
   "source": [
    "titanic.loc[:50, ['age', 'pclass']]"
   ]
  },
  {
   "cell_type": "code",
   "execution_count": null,
   "metadata": {},
   "outputs": [],
   "source": [
    "titanic.loc[3, :] #3rd row all columns"
   ]
  },
  {
   "cell_type": "code",
   "execution_count": null,
   "metadata": {},
   "outputs": [],
   "source": [
    "titanic.iloc[:20, :5] #First 20 rows and first 5 columns"
   ]
  },
  {
   "cell_type": "code",
   "execution_count": null,
   "metadata": {},
   "outputs": [],
   "source": [
    "titanic[10:20]"
   ]
  },
  {
   "cell_type": "markdown",
   "metadata": {},
   "source": [
    "# Adding columns"
   ]
  },
  {
   "cell_type": "code",
   "execution_count": null,
   "metadata": {
    "scrolled": true
   },
   "outputs": [],
   "source": [
    "# Say we wanted to guess the salary of the person purchasing the ticket\n",
    "titanic['Salary'] = (titanic.loc[:,'fare'] * 1.8)*100 /titanic.loc[:, 'pclass']\n",
    "titanic.head()"
   ]
  },
  {
   "cell_type": "code",
   "execution_count": null,
   "metadata": {},
   "outputs": [],
   "source": [
    "# Children won't have a salary\n",
    "titanic.loc[titanic['who']=='child', 'Salary'] = 0\n",
    "titanic"
   ]
  },
  {
   "cell_type": "code",
   "execution_count": null,
   "metadata": {},
   "outputs": [],
   "source": [
    "titanic.describe()"
   ]
  },
  {
   "cell_type": "code",
   "execution_count": null,
   "metadata": {},
   "outputs": [],
   "source": [
    "titanic.loc[:, ['pclass', 'age', 'fare', 'Salary']].head(20)"
   ]
  },
  {
   "cell_type": "code",
   "execution_count": null,
   "metadata": {},
   "outputs": [],
   "source": [
    "titanic[titanic['pclass'] == 3]"
   ]
  },
  {
   "cell_type": "code",
   "execution_count": null,
   "metadata": {},
   "outputs": [],
   "source": [
    "titanic.columns"
   ]
  },
  {
   "cell_type": "code",
   "execution_count": null,
   "metadata": {},
   "outputs": [],
   "source": [
    "titanic.rename({'Salary':'assumed_pay'}, axis=1, inplace=True)"
   ]
  },
  {
   "cell_type": "code",
   "execution_count": null,
   "metadata": {},
   "outputs": [],
   "source": [
    "titanic.head()"
   ]
  },
  {
   "cell_type": "code",
   "execution_count": null,
   "metadata": {},
   "outputs": [],
   "source": [
    "titanic.drop('assumed_pay', axis=1).head()"
   ]
  },
  {
   "cell_type": "code",
   "execution_count": null,
   "metadata": {},
   "outputs": [],
   "source": [
    "titanic.groupby('who').mean()"
   ]
  },
  {
   "cell_type": "code",
   "execution_count": null,
   "metadata": {},
   "outputs": [],
   "source": [
    "titanic.groupby('who').get_group('woman').head()"
   ]
  },
  {
   "cell_type": "markdown",
   "metadata": {},
   "source": [
    "# Merge and join"
   ]
  },
  {
   "cell_type": "code",
   "execution_count": null,
   "metadata": {
    "scrolled": true
   },
   "outputs": [],
   "source": [
    "df_sal"
   ]
  },
  {
   "cell_type": "code",
   "execution_count": null,
   "metadata": {},
   "outputs": [],
   "source": [
    "yrs_employed = pd.DataFrame({\n",
    "    'Salary No': ['Salary 1', 'Salary 5', 'Salary 41', 'Salary 35', 'Salary 19'],\n",
    "    'Years Employed': [10, 6, 19, 7, 28]\n",
    "})\n",
    "\n",
    "yrs_employed"
   ]
  },
  {
   "cell_type": "code",
   "execution_count": null,
   "metadata": {},
   "outputs": [],
   "source": [
    "df_sal.merge(yrs_employed, left_on='Salary No', right_on='Salary No')\n",
    "# Defaults to inner join"
   ]
  },
  {
   "cell_type": "code",
   "execution_count": null,
   "metadata": {
    "scrolled": true
   },
   "outputs": [],
   "source": [
    "df_sal.merge(yrs_employed, left_on='Salary No', right_on='Salary No', how='outer')"
   ]
  },
  {
   "cell_type": "code",
   "execution_count": null,
   "metadata": {},
   "outputs": [],
   "source": [
    "yrs_employed['Years Employed']"
   ]
  },
  {
   "cell_type": "code",
   "execution_count": null,
   "metadata": {},
   "outputs": [],
   "source": [
    "yrs = yrs_employed['Years Employed']\n",
    "yrs.index = yrs_employed['Salary No']\n",
    "yrs"
   ]
  },
  {
   "cell_type": "code",
   "execution_count": null,
   "metadata": {},
   "outputs": [],
   "source": [
    "df_sal.join(yrs, on='Salary No')"
   ]
  },
  {
   "cell_type": "markdown",
   "metadata": {},
   "source": [
    "# Exercise\n",
    "\n",
    "* Read in a dataset into a DataFrame\n",
    "* Investigate the data and carry out any preparation\n",
    "    * Summary stats\n",
    "    * Column data\n",
    "    * Missing Values\n",
    "    * Add new columns\n",
    "    * Rename column names\n",
    "    * etc.\n",
    "    "
   ]
  },
  {
   "cell_type": "code",
   "execution_count": null,
   "metadata": {},
   "outputs": [],
   "source": []
  }
 ],
 "metadata": {
  "kernelspec": {
   "display_name": "Python 3",
   "language": "python",
   "name": "python3"
  },
  "language_info": {
   "codemirror_mode": {
    "name": "ipython",
    "version": 3
   },
   "file_extension": ".py",
   "mimetype": "text/x-python",
   "name": "python",
   "nbconvert_exporter": "python",
   "pygments_lexer": "ipython3",
   "version": "3.7.6"
  }
 },
 "nbformat": 4,
 "nbformat_minor": 2
}
