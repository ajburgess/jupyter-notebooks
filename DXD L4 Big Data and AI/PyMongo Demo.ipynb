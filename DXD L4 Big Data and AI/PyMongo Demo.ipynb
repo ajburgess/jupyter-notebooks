{
 "cells": [
  {
   "cell_type": "markdown",
   "metadata": {},
   "source": [
    "# PyMongo\n",
    "\n",
    "* MongoDB is a popular NoSQL database\n",
    "    * It stores data in JSON-like documents\n",
    "* To use MongoDB with python the official driver published by devolopers is PyMongo"
   ]
  },
  {
   "cell_type": "markdown",
   "metadata": {},
   "source": [
    "## Terminology\n",
    "\n",
    "* **JSON** - JavaScript Object Notation\n",
    "* **Document**\n",
    "    - Key value pairs\n",
    "    - Stored as BSON which is a binary representation of JSON\n",
    "* **Collection** \n",
    "    - Table in an SQL database\n",
    "    - Group of documents stored in a database"
   ]
  },
  {
   "cell_type": "markdown",
   "metadata": {},
   "source": [
    "## Installation\n",
    "\n",
    "* You will need to install PyMongo on your device\n",
    "    * ```python \n",
    "    pip install pymongo``` \n",
    "    * This will only need to be done once on your machine and then you can import the library"
   ]
  },
  {
   "cell_type": "code",
   "execution_count": 1,
   "metadata": {},
   "outputs": [],
   "source": [
    "import pymongo"
   ]
  },
  {
   "cell_type": "markdown",
   "metadata": {},
   "source": [
    "* You also need to have MongoDB installed on you machine.\n",
    "    * **MacOS** \n",
    "        - Use `/bin/bash -c \"$(curl -fsSL https://raw.githubusercontent.com/Homebrew/install/master/install.sh)\"` to install Homebrew\n",
    "            - `brew tap mongodb/brew`\n",
    "            - `brew install mongodb-community@3.4`\n",
    "        - Running MongoDB\n",
    "            - `brew services start mongodb-community@3.4`\n",
    "    * **Windows** https://docs.mongodb.com/v3.4/tutorial/install-mongodb-on-windows/ "
   ]
  },
  {
   "cell_type": "markdown",
   "metadata": {},
   "source": [
    "## Connection\n",
    "\n",
    "* We can create a connection with default values where Host = LocalHost and Port = 27017\n",
    "```python\n",
    "MongoClient()```\n",
    "* We can explicitly set them\n",
    "    * ```python\n",
    "MongoClient('localhost', 27017)```\n",
    "    * ```python\n",
    "MongoClient('mongodb://localhost:27017')```"
   ]
  },
  {
   "cell_type": "code",
   "execution_count": 2,
   "metadata": {},
   "outputs": [],
   "source": [
    "from pymongo import MongoClient"
   ]
  },
  {
   "cell_type": "code",
   "execution_count": 3,
   "metadata": {},
   "outputs": [],
   "source": [
    "client = MongoClient() "
   ]
  },
  {
   "cell_type": "code",
   "execution_count": 4,
   "metadata": {},
   "outputs": [
    {
     "data": {
      "text/plain": [
       "'localhost'"
      ]
     },
     "execution_count": 4,
     "metadata": {},
     "output_type": "execute_result"
    }
   ],
   "source": [
    "client.HOST"
   ]
  },
  {
   "cell_type": "code",
   "execution_count": 5,
   "metadata": {},
   "outputs": [
    {
     "data": {
      "text/plain": [
       "27017"
      ]
     },
     "execution_count": 5,
     "metadata": {},
     "output_type": "execute_result"
    }
   ],
   "source": [
    "client.PORT"
   ]
  },
  {
   "cell_type": "markdown",
   "metadata": {},
   "source": [
    "## Accessing database\n",
    "\n",
    "* **NOTE** database is not created until it gets content\n",
    "* Create a database using the following\n",
    "```python \n",
    "db = client.MyDatabaseName\n",
    "```\n",
    "or\n",
    "```python\n",
    "db = client['MyDatabaseName']\n",
    "```"
   ]
  },
  {
   "cell_type": "code",
   "execution_count": 6,
   "metadata": {},
   "outputs": [],
   "source": [
    "db = client.pymongo_testDB"
   ]
  },
  {
   "cell_type": "code",
   "execution_count": 7,
   "metadata": {},
   "outputs": [
    {
     "data": {
      "text/plain": [
       "Database(MongoClient(host=['localhost:27017'], document_class=dict, tz_aware=False, connect=True), 'pymongo_testDB')"
      ]
     },
     "execution_count": 7,
     "metadata": {},
     "output_type": "execute_result"
    }
   ],
   "source": [
    "db"
   ]
  },
  {
   "cell_type": "code",
   "execution_count": 8,
   "metadata": {},
   "outputs": [],
   "source": [
    "if 'pymongo_testDB' in client.list_database_names():\n",
    "    print('Database exists')\n",
    "    \n",
    "# no content so does not exist yet"
   ]
  },
  {
   "cell_type": "markdown",
   "metadata": {},
   "source": [
    "## Inserting documents\n",
    "\n",
    "* Specify which collection\n",
    "    * `.posts` \n",
    "* Insert data into the collection\n",
    "    * `.insert_one()`\n",
    "    * `.insert_many()`"
   ]
  },
  {
   "cell_type": "code",
   "execution_count": 9,
   "metadata": {},
   "outputs": [],
   "source": [
    "posts = db.posts"
   ]
  },
  {
   "cell_type": "code",
   "execution_count": 10,
   "metadata": {},
   "outputs": [
    {
     "name": "stdout",
     "output_type": "stream",
     "text": [
      "<pymongo.results.InsertOneResult object at 0x106983488>\n"
     ]
    }
   ],
   "source": [
    "post_data = {\n",
    "    'title': 'PyMongo',\n",
    "    'course': 'Software Development'\n",
    "}\n",
    "\n",
    "result = posts.insert_one(post_data)\n",
    "print(result)"
   ]
  },
  {
   "cell_type": "code",
   "execution_count": 11,
   "metadata": {},
   "outputs": [
    {
     "data": {
      "text/plain": [
       "ObjectId('5e626848b8b8ba1208d1a483')"
      ]
     },
     "execution_count": 11,
     "metadata": {},
     "output_type": "execute_result"
    }
   ],
   "source": [
    "result.inserted_id"
   ]
  },
  {
   "cell_type": "code",
   "execution_count": 2,
   "metadata": {},
   "outputs": [
    {
     "ename": "NameError",
     "evalue": "name 'client' is not defined",
     "output_type": "error",
     "traceback": [
      "\u001b[1;31m---------------------------------------------------------------------------\u001b[0m",
      "\u001b[1;31mNameError\u001b[0m                                 Traceback (most recent call last)",
      "\u001b[1;32m<ipython-input-2-5cdf856cc932>\u001b[0m in \u001b[0;36m<module>\u001b[1;34m\u001b[0m\n\u001b[1;32m----> 1\u001b[1;33m \u001b[1;32mif\u001b[0m \u001b[1;34m'pymongo_testDB'\u001b[0m \u001b[1;32min\u001b[0m \u001b[0mclient\u001b[0m\u001b[1;33m.\u001b[0m\u001b[0mlist_database_names\u001b[0m\u001b[1;33m(\u001b[0m\u001b[1;33m)\u001b[0m\u001b[1;33m:\u001b[0m\u001b[1;33m\u001b[0m\u001b[1;33m\u001b[0m\u001b[0m\n\u001b[0m\u001b[0;32m      2\u001b[0m     \u001b[0mprint\u001b[0m\u001b[1;33m(\u001b[0m\u001b[1;34m'Database exists'\u001b[0m\u001b[1;33m)\u001b[0m\u001b[1;33m\u001b[0m\u001b[1;33m\u001b[0m\u001b[0m\n\u001b[0;32m      3\u001b[0m \u001b[1;33m\u001b[0m\u001b[0m\n\u001b[0;32m      4\u001b[0m \u001b[1;31m# It now exists as it has some content\u001b[0m\u001b[1;33m\u001b[0m\u001b[1;33m\u001b[0m\u001b[1;33m\u001b[0m\u001b[0m\n",
      "\u001b[1;31mNameError\u001b[0m: name 'client' is not defined"
     ]
    }
   ],
   "source": [
    "if 'pymongo_testDB' in client.list_database_names():\n",
    "    print('Database exists')\n",
    "    \n",
    "# It now exists as it has some content"
   ]
  },
  {
   "cell_type": "code",
   "execution_count": 13,
   "metadata": {},
   "outputs": [],
   "source": [
    "post_data1 = {\n",
    "    'title': 'AI',\n",
    "    'course': 'Software Development'\n",
    "}\n",
    "post_data2 = {\n",
    "    'title': 'Big Data',\n",
    "    'course': 'Software Development'\n",
    "}"
   ]
  },
  {
   "cell_type": "code",
   "execution_count": 14,
   "metadata": {},
   "outputs": [
    {
     "name": "stdout",
     "output_type": "stream",
     "text": [
      "[ObjectId('5e626848b8b8ba1208d1a484'), ObjectId('5e626848b8b8ba1208d1a485')]\n"
     ]
    }
   ],
   "source": [
    "result_many = posts.insert_many([post_data1, post_data2])\n",
    "print(result_many.inserted_ids)"
   ]
  },
  {
   "cell_type": "code",
   "execution_count": 15,
   "metadata": {},
   "outputs": [],
   "source": [
    "post_data3 = {\n",
    "    'title': 'Python',\n",
    "    'course': 'Software Development',\n",
    "    'author': 'Unknown'\n",
    "}"
   ]
  },
  {
   "cell_type": "code",
   "execution_count": 16,
   "metadata": {},
   "outputs": [
    {
     "name": "stdout",
     "output_type": "stream",
     "text": [
      "5e626848b8b8ba1208d1a486\n"
     ]
    }
   ],
   "source": [
    "res = posts.insert_one(post_data3)\n",
    "print(res.inserted_id)"
   ]
  },
  {
   "cell_type": "code",
   "execution_count": 17,
   "metadata": {},
   "outputs": [
    {
     "name": "stdout",
     "output_type": "stream",
     "text": [
      "[ObjectId('5e626848b8b8ba1208d1a487'), ObjectId('5e626848b8b8ba1208d1a488')]\n"
     ]
    }
   ],
   "source": [
    "math_posts = [\n",
    "    {'title': 'Linear Algebra', 'course': 'Mathematics'},\n",
    "    {'title': 'Calculus', 'course': 'Mathematics'}\n",
    "]\n",
    "\n",
    "res2 = posts.insert_many(math_posts)\n",
    "print(res2.inserted_ids)"
   ]
  },
  {
   "cell_type": "markdown",
   "metadata": {},
   "source": [
    "# Retrieve documents\n",
    "\n",
    "* `find_one()`\n",
    "* `find()`"
   ]
  },
  {
   "cell_type": "code",
   "execution_count": 18,
   "metadata": {},
   "outputs": [
    {
     "name": "stdout",
     "output_type": "stream",
     "text": [
      "{'_id': ObjectId('5e626848b8b8ba1208d1a486'), 'title': 'Python', 'course': 'Software Development', 'author': 'Unknown'}\n"
     ]
    }
   ],
   "source": [
    "unkwn_p = posts.find_one({'author' : 'Unknown'})\n",
    "print(unkwn_p)"
   ]
  },
  {
   "cell_type": "code",
   "execution_count": 19,
   "metadata": {},
   "outputs": [
    {
     "data": {
      "text/plain": [
       "6"
      ]
     },
     "execution_count": 19,
     "metadata": {},
     "output_type": "execute_result"
    }
   ],
   "source": [
    "posts.count_documents({})"
   ]
  },
  {
   "cell_type": "code",
   "execution_count": 20,
   "metadata": {},
   "outputs": [],
   "source": [
    "import pprint"
   ]
  },
  {
   "cell_type": "code",
   "execution_count": 21,
   "metadata": {},
   "outputs": [
    {
     "name": "stdout",
     "output_type": "stream",
     "text": [
      "{'_id': ObjectId('5e626848b8b8ba1208d1a483'),\n",
      " 'course': 'Software Development',\n",
      " 'title': 'PyMongo'}\n",
      "\n",
      "\n",
      "{'_id': ObjectId('5e626848b8b8ba1208d1a484'),\n",
      " 'course': 'Software Development',\n",
      " 'title': 'AI'}\n",
      "\n",
      "\n",
      "{'_id': ObjectId('5e626848b8b8ba1208d1a485'),\n",
      " 'course': 'Software Development',\n",
      " 'title': 'Big Data'}\n",
      "\n",
      "\n",
      "{'_id': ObjectId('5e626848b8b8ba1208d1a486'),\n",
      " 'author': 'Unknown',\n",
      " 'course': 'Software Development',\n",
      " 'title': 'Python'}\n",
      "\n",
      "\n",
      "{'_id': ObjectId('5e626848b8b8ba1208d1a487'),\n",
      " 'course': 'Mathematics',\n",
      " 'title': 'Linear Algebra'}\n",
      "\n",
      "\n",
      "{'_id': ObjectId('5e626848b8b8ba1208d1a488'),\n",
      " 'course': 'Mathematics',\n",
      " 'title': 'Calculus'}\n",
      "\n",
      "\n"
     ]
    }
   ],
   "source": [
    "for post in posts.find():\n",
    "    pprint.pprint(post)\n",
    "    print('\\n')"
   ]
  },
  {
   "cell_type": "code",
   "execution_count": 22,
   "metadata": {},
   "outputs": [
    {
     "name": "stdout",
     "output_type": "stream",
     "text": [
      "{'_id': ObjectId('5e626848b8b8ba1208d1a487'),\n",
      " 'course': 'Mathematics',\n",
      " 'title': 'Linear Algebra'}\n",
      "\n",
      "\n",
      "{'_id': ObjectId('5e626848b8b8ba1208d1a488'),\n",
      " 'course': 'Mathematics',\n",
      " 'title': 'Calculus'}\n",
      "\n",
      "\n"
     ]
    }
   ],
   "source": [
    "for post in posts.find({'course':'Mathematics'}):\n",
    "    pprint.pprint(post)\n",
    "    print('\\n')"
   ]
  },
  {
   "cell_type": "code",
   "execution_count": 23,
   "metadata": {},
   "outputs": [
    {
     "name": "stdout",
     "output_type": "stream",
     "text": [
      "{'_id': ObjectId('5e626848b8b8ba1208d1a483'),\n",
      " 'course': 'Software Development',\n",
      " 'title': 'PyMongo'}\n",
      "\n",
      "\n",
      "{'_id': ObjectId('5e626848b8b8ba1208d1a486'),\n",
      " 'author': 'Unknown',\n",
      " 'course': 'Software Development',\n",
      " 'title': 'Python'}\n",
      "\n",
      "\n"
     ]
    }
   ],
   "source": [
    "for post in posts.find({'title':{'$regex':'Py'}}):\n",
    "    pprint.pprint(post)\n",
    "    print('\\n')"
   ]
  },
  {
   "cell_type": "code",
   "execution_count": 24,
   "metadata": {},
   "outputs": [
    {
     "name": "stdout",
     "output_type": "stream",
     "text": [
      "{'_id': ObjectId('5e626848b8b8ba1208d1a484'),\n",
      " 'course': 'Software Development',\n",
      " 'title': 'AI'}\n",
      "\n",
      "\n",
      "{'_id': ObjectId('5e626848b8b8ba1208d1a485'),\n",
      " 'course': 'Software Development',\n",
      " 'title': 'Big Data'}\n",
      "\n",
      "\n",
      "{'_id': ObjectId('5e626848b8b8ba1208d1a488'),\n",
      " 'course': 'Mathematics',\n",
      " 'title': 'Calculus'}\n",
      "\n",
      "\n",
      "{'_id': ObjectId('5e626848b8b8ba1208d1a487'),\n",
      " 'course': 'Mathematics',\n",
      " 'title': 'Linear Algebra'}\n",
      "\n",
      "\n",
      "{'_id': ObjectId('5e626848b8b8ba1208d1a483'),\n",
      " 'course': 'Software Development',\n",
      " 'title': 'PyMongo'}\n",
      "\n",
      "\n",
      "{'_id': ObjectId('5e626848b8b8ba1208d1a486'),\n",
      " 'author': 'Unknown',\n",
      " 'course': 'Software Development',\n",
      " 'title': 'Python'}\n",
      "\n",
      "\n"
     ]
    }
   ],
   "source": [
    "for post in posts.find().sort('title'):\n",
    "    pprint.pprint(post)\n",
    "    print('\\n')"
   ]
  },
  {
   "cell_type": "markdown",
   "metadata": {},
   "source": [
    "# Deleting \n",
    "\n",
    "* `delete_one()` - deletes first occurence of a document\n",
    "* `delete_many()` - deletes multiple documents"
   ]
  },
  {
   "cell_type": "code",
   "execution_count": 25,
   "metadata": {},
   "outputs": [
    {
     "data": {
      "text/plain": [
       "6"
      ]
     },
     "execution_count": 25,
     "metadata": {},
     "output_type": "execute_result"
    }
   ],
   "source": [
    "posts.count_documents({})"
   ]
  },
  {
   "cell_type": "code",
   "execution_count": 26,
   "metadata": {},
   "outputs": [
    {
     "data": {
      "text/plain": [
       "<pymongo.results.DeleteResult at 0x106983048>"
      ]
     },
     "execution_count": 26,
     "metadata": {},
     "output_type": "execute_result"
    }
   ],
   "source": [
    "posts.delete_one({'course':'Mathematics'})"
   ]
  },
  {
   "cell_type": "code",
   "execution_count": 27,
   "metadata": {},
   "outputs": [
    {
     "data": {
      "text/plain": [
       "5"
      ]
     },
     "execution_count": 27,
     "metadata": {},
     "output_type": "execute_result"
    }
   ],
   "source": [
    "posts.count_documents({})"
   ]
  },
  {
   "cell_type": "code",
   "execution_count": 28,
   "metadata": {},
   "outputs": [
    {
     "name": "stdout",
     "output_type": "stream",
     "text": [
      "{'_id': ObjectId('5e626848b8b8ba1208d1a488'),\n",
      " 'course': 'Mathematics',\n",
      " 'title': 'Calculus'}\n",
      "\n",
      "\n"
     ]
    }
   ],
   "source": [
    "for post in posts.find({'course':'Mathematics'}):\n",
    "    pprint.pprint(post)\n",
    "    print('\\n')"
   ]
  },
  {
   "cell_type": "code",
   "execution_count": 29,
   "metadata": {},
   "outputs": [
    {
     "data": {
      "text/plain": [
       "<pymongo.results.DeleteResult at 0x1069a3b88>"
      ]
     },
     "execution_count": 29,
     "metadata": {},
     "output_type": "execute_result"
    }
   ],
   "source": [
    "posts.delete_many({'author':'Unknown'})"
   ]
  },
  {
   "cell_type": "code",
   "execution_count": 30,
   "metadata": {},
   "outputs": [
    {
     "data": {
      "text/plain": [
       "4"
      ]
     },
     "execution_count": 30,
     "metadata": {},
     "output_type": "execute_result"
    }
   ],
   "source": [
    "posts.count_documents({})"
   ]
  },
  {
   "cell_type": "code",
   "execution_count": 31,
   "metadata": {},
   "outputs": [],
   "source": [
    "for post in posts.find({'author':'Unknown'}):\n",
    "    pprint.pprint(post)\n",
    "    print('\\n')"
   ]
  },
  {
   "cell_type": "code",
   "execution_count": 32,
   "metadata": {},
   "outputs": [
    {
     "name": "stdout",
     "output_type": "stream",
     "text": [
      "{'_id': ObjectId('5e626848b8b8ba1208d1a483'),\n",
      " 'course': 'Software Development',\n",
      " 'title': 'PyMongo'}\n",
      "\n",
      "\n",
      "{'_id': ObjectId('5e626848b8b8ba1208d1a484'),\n",
      " 'course': 'Software Development',\n",
      " 'title': 'AI'}\n",
      "\n",
      "\n",
      "{'_id': ObjectId('5e626848b8b8ba1208d1a485'),\n",
      " 'course': 'Software Development',\n",
      " 'title': 'Big Data'}\n",
      "\n",
      "\n",
      "{'_id': ObjectId('5e626848b8b8ba1208d1a488'),\n",
      " 'course': 'Mathematics',\n",
      " 'title': 'Calculus'}\n",
      "\n",
      "\n"
     ]
    }
   ],
   "source": [
    "for post in posts.find():\n",
    "    pprint.pprint(post)\n",
    "    print('\\n')"
   ]
  },
  {
   "cell_type": "markdown",
   "metadata": {},
   "source": [
    "# Update\n",
    "\n",
    "* `update_one()` - only first occurence is updated\n",
    "* `update_many()` - all occurences updated"
   ]
  },
  {
   "cell_type": "code",
   "execution_count": 33,
   "metadata": {},
   "outputs": [
    {
     "data": {
      "text/plain": [
       "<pymongo.results.UpdateResult at 0x1069b1b48>"
      ]
     },
     "execution_count": 33,
     "metadata": {},
     "output_type": "execute_result"
    }
   ],
   "source": [
    "# query = {'course':'Mathematics'}\n",
    "# new_val = {'$set':{'course':'Maths'}}\n",
    "# posts.update_one(query, new_val)\n",
    "\n",
    "posts.update_one({'course':'Mathematics'}, {'$set':{'course':'Maths'}})"
   ]
  },
  {
   "cell_type": "code",
   "execution_count": 34,
   "metadata": {},
   "outputs": [
    {
     "name": "stdout",
     "output_type": "stream",
     "text": [
      "{'_id': ObjectId('5e626848b8b8ba1208d1a483'),\n",
      " 'course': 'Software Development',\n",
      " 'title': 'PyMongo'}\n",
      "\n",
      "\n",
      "{'_id': ObjectId('5e626848b8b8ba1208d1a484'),\n",
      " 'course': 'Software Development',\n",
      " 'title': 'AI'}\n",
      "\n",
      "\n",
      "{'_id': ObjectId('5e626848b8b8ba1208d1a485'),\n",
      " 'course': 'Software Development',\n",
      " 'title': 'Big Data'}\n",
      "\n",
      "\n",
      "{'_id': ObjectId('5e626848b8b8ba1208d1a488'),\n",
      " 'course': 'Maths',\n",
      " 'title': 'Calculus'}\n",
      "\n",
      "\n"
     ]
    }
   ],
   "source": [
    "for post in posts.find():\n",
    "    pprint.pprint(post)\n",
    "    print('\\n')"
   ]
  },
  {
   "cell_type": "code",
   "execution_count": 35,
   "metadata": {},
   "outputs": [
    {
     "data": {
      "text/plain": [
       "<pymongo.results.UpdateResult at 0x1069ae448>"
      ]
     },
     "execution_count": 35,
     "metadata": {},
     "output_type": "execute_result"
    }
   ],
   "source": [
    "query2 = {'title':'AI'}\n",
    "new_val2 = {'$set':{'title':'Artificial Intelligence'}}\n",
    "posts.update_many(query2, new_val2)"
   ]
  },
  {
   "cell_type": "code",
   "execution_count": 36,
   "metadata": {},
   "outputs": [
    {
     "name": "stdout",
     "output_type": "stream",
     "text": [
      "{'_id': ObjectId('5e626848b8b8ba1208d1a483'),\n",
      " 'course': 'Software Development',\n",
      " 'title': 'PyMongo'}\n",
      "\n",
      "\n",
      "{'_id': ObjectId('5e626848b8b8ba1208d1a484'),\n",
      " 'course': 'Software Development',\n",
      " 'title': 'Artificial Intelligence'}\n",
      "\n",
      "\n",
      "{'_id': ObjectId('5e626848b8b8ba1208d1a485'),\n",
      " 'course': 'Software Development',\n",
      " 'title': 'Big Data'}\n",
      "\n",
      "\n",
      "{'_id': ObjectId('5e626848b8b8ba1208d1a488'),\n",
      " 'course': 'Maths',\n",
      " 'title': 'Calculus'}\n",
      "\n",
      "\n"
     ]
    }
   ],
   "source": [
    "for post in posts.find():\n",
    "    pprint.pprint(post)\n",
    "    print('\\n')"
   ]
  },
  {
   "cell_type": "markdown",
   "metadata": {},
   "source": [
    "# Pandas\n",
    "\n",
    "* We use pandas for Data Manipulation\n",
    "* You can easily read you database into a Dataframe\n",
    "    * From the dataframe we can analyse the data \n",
    "    * Feature engineering, Variable selection\n",
    "    * Create relevant visualisations\n",
    "    * Clean data so we are able to use it for our AI model"
   ]
  },
  {
   "cell_type": "code",
   "execution_count": 37,
   "metadata": {},
   "outputs": [],
   "source": [
    "import pandas as pd\n",
    "import numpy as np"
   ]
  },
  {
   "cell_type": "code",
   "execution_count": 38,
   "metadata": {
    "scrolled": false
   },
   "outputs": [
    {
     "data": {
      "text/html": [
       "<div>\n",
       "<style scoped>\n",
       "    .dataframe tbody tr th:only-of-type {\n",
       "        vertical-align: middle;\n",
       "    }\n",
       "\n",
       "    .dataframe tbody tr th {\n",
       "        vertical-align: top;\n",
       "    }\n",
       "\n",
       "    .dataframe thead th {\n",
       "        text-align: right;\n",
       "    }\n",
       "</style>\n",
       "<table border=\"1\" class=\"dataframe\">\n",
       "  <thead>\n",
       "    <tr style=\"text-align: right;\">\n",
       "      <th></th>\n",
       "      <th>_id</th>\n",
       "      <th>course</th>\n",
       "      <th>title</th>\n",
       "    </tr>\n",
       "  </thead>\n",
       "  <tbody>\n",
       "    <tr>\n",
       "      <th>0</th>\n",
       "      <td>5e626848b8b8ba1208d1a483</td>\n",
       "      <td>Software Development</td>\n",
       "      <td>PyMongo</td>\n",
       "    </tr>\n",
       "    <tr>\n",
       "      <th>1</th>\n",
       "      <td>5e626848b8b8ba1208d1a484</td>\n",
       "      <td>Software Development</td>\n",
       "      <td>Artificial Intelligence</td>\n",
       "    </tr>\n",
       "    <tr>\n",
       "      <th>2</th>\n",
       "      <td>5e626848b8b8ba1208d1a485</td>\n",
       "      <td>Software Development</td>\n",
       "      <td>Big Data</td>\n",
       "    </tr>\n",
       "    <tr>\n",
       "      <th>3</th>\n",
       "      <td>5e626848b8b8ba1208d1a488</td>\n",
       "      <td>Maths</td>\n",
       "      <td>Calculus</td>\n",
       "    </tr>\n",
       "  </tbody>\n",
       "</table>\n",
       "</div>"
      ],
      "text/plain": [
       "                        _id                course                    title\n",
       "0  5e626848b8b8ba1208d1a483  Software Development                  PyMongo\n",
       "1  5e626848b8b8ba1208d1a484  Software Development  Artificial Intelligence\n",
       "2  5e626848b8b8ba1208d1a485  Software Development                 Big Data\n",
       "3  5e626848b8b8ba1208d1a488                 Maths                 Calculus"
      ]
     },
     "execution_count": 38,
     "metadata": {},
     "output_type": "execute_result"
    }
   ],
   "source": [
    "df = pd.DataFrame(list(posts.find()))\n",
    "df"
   ]
  },
  {
   "cell_type": "code",
   "execution_count": 39,
   "metadata": {},
   "outputs": [],
   "source": [
    "samp = len(list(df.index))"
   ]
  },
  {
   "cell_type": "markdown",
   "metadata": {},
   "source": [
    "* We are generating some random data to insert into our dataframe"
   ]
  },
  {
   "cell_type": "code",
   "execution_count": 40,
   "metadata": {},
   "outputs": [],
   "source": [
    "np.random.seed(42)"
   ]
  },
  {
   "cell_type": "code",
   "execution_count": 41,
   "metadata": {
    "scrolled": true
   },
   "outputs": [],
   "source": [
    "df['Score'] = np.random.normal(60, 20, samp)"
   ]
  },
  {
   "cell_type": "code",
   "execution_count": 42,
   "metadata": {},
   "outputs": [
    {
     "data": {
      "text/html": [
       "<div>\n",
       "<style scoped>\n",
       "    .dataframe tbody tr th:only-of-type {\n",
       "        vertical-align: middle;\n",
       "    }\n",
       "\n",
       "    .dataframe tbody tr th {\n",
       "        vertical-align: top;\n",
       "    }\n",
       "\n",
       "    .dataframe thead th {\n",
       "        text-align: right;\n",
       "    }\n",
       "</style>\n",
       "<table border=\"1\" class=\"dataframe\">\n",
       "  <thead>\n",
       "    <tr style=\"text-align: right;\">\n",
       "      <th></th>\n",
       "      <th>_id</th>\n",
       "      <th>course</th>\n",
       "      <th>title</th>\n",
       "      <th>Score</th>\n",
       "    </tr>\n",
       "  </thead>\n",
       "  <tbody>\n",
       "    <tr>\n",
       "      <th>0</th>\n",
       "      <td>5e626848b8b8ba1208d1a483</td>\n",
       "      <td>Software Development</td>\n",
       "      <td>PyMongo</td>\n",
       "      <td>69.934283</td>\n",
       "    </tr>\n",
       "    <tr>\n",
       "      <th>1</th>\n",
       "      <td>5e626848b8b8ba1208d1a484</td>\n",
       "      <td>Software Development</td>\n",
       "      <td>Artificial Intelligence</td>\n",
       "      <td>57.234714</td>\n",
       "    </tr>\n",
       "    <tr>\n",
       "      <th>2</th>\n",
       "      <td>5e626848b8b8ba1208d1a485</td>\n",
       "      <td>Software Development</td>\n",
       "      <td>Big Data</td>\n",
       "      <td>72.953771</td>\n",
       "    </tr>\n",
       "    <tr>\n",
       "      <th>3</th>\n",
       "      <td>5e626848b8b8ba1208d1a488</td>\n",
       "      <td>Maths</td>\n",
       "      <td>Calculus</td>\n",
       "      <td>90.460597</td>\n",
       "    </tr>\n",
       "  </tbody>\n",
       "</table>\n",
       "</div>"
      ],
      "text/plain": [
       "                        _id                course                    title  \\\n",
       "0  5e626848b8b8ba1208d1a483  Software Development                  PyMongo   \n",
       "1  5e626848b8b8ba1208d1a484  Software Development  Artificial Intelligence   \n",
       "2  5e626848b8b8ba1208d1a485  Software Development                 Big Data   \n",
       "3  5e626848b8b8ba1208d1a488                 Maths                 Calculus   \n",
       "\n",
       "       Score  \n",
       "0  69.934283  \n",
       "1  57.234714  \n",
       "2  72.953771  \n",
       "3  90.460597  "
      ]
     },
     "execution_count": 42,
     "metadata": {},
     "output_type": "execute_result"
    }
   ],
   "source": [
    "df"
   ]
  },
  {
   "cell_type": "markdown",
   "metadata": {},
   "source": [
    "# Visualisation\n",
    "\n",
    "* Useful for exploration of data"
   ]
  },
  {
   "cell_type": "code",
   "execution_count": 43,
   "metadata": {},
   "outputs": [],
   "source": [
    "import matplotlib.pyplot as plt\n",
    "import seaborn as sns"
   ]
  },
  {
   "cell_type": "code",
   "execution_count": 56,
   "metadata": {},
   "outputs": [
    {
     "data": {
      "text/plain": [
       "<matplotlib.axes._subplots.AxesSubplot at 0x1a198041d0>"
      ]
     },
     "execution_count": 56,
     "metadata": {},
     "output_type": "execute_result"
    },
    {
     "data": {
      "image/png": "[encoded data removed]",
      "text/plain": [
       "<Figure size 432x288 with 1 Axes>"
      ]
     },
     "metadata": {
      "needs_background": "light"
     },
     "output_type": "display_data"
    }
   ],
   "source": [
    "sns.scatterplot('title', 'Score', data=df)"
   ]
  },
  {
   "cell_type": "code",
   "execution_count": 44,
   "metadata": {},
   "outputs": [
    {
     "data": {
      "text/plain": [
       "<matplotlib.axes._subplots.AxesSubplot at 0x1a18a69e10>"
      ]
     },
     "execution_count": 44,
     "metadata": {},
     "output_type": "execute_result"
    },
    {
     "data": {
      "image/png": "[encoded data removed]",
      "text/plain": [
       "<Figure size 720x576 with 1 Axes>"
      ]
     },
     "metadata": {
      "needs_background": "light"
     },
     "output_type": "display_data"
    }
   ],
   "source": [
    "plt.figure(figsize = (10,8))\n",
    "sns.countplot(df['title'],)"
   ]
  },
  {
   "cell_type": "code",
   "execution_count": 45,
   "metadata": {},
   "outputs": [
    {
     "name": "stdout",
     "output_type": "stream",
     "text": [
      "<class 'pandas.core.frame.DataFrame'>\n",
      "RangeIndex: 4 entries, 0 to 3\n",
      "Data columns (total 4 columns):\n",
      "_id       4 non-null object\n",
      "course    4 non-null object\n",
      "title     4 non-null object\n",
      "Score     4 non-null float64\n",
      "dtypes: float64(1), object(3)\n",
      "memory usage: 208.0+ bytes\n"
     ]
    }
   ],
   "source": [
    "df.info()"
   ]
  },
  {
   "cell_type": "code",
   "execution_count": 46,
   "metadata": {},
   "outputs": [
    {
     "data": {
      "text/html": [
       "<div>\n",
       "<style scoped>\n",
       "    .dataframe tbody tr th:only-of-type {\n",
       "        vertical-align: middle;\n",
       "    }\n",
       "\n",
       "    .dataframe tbody tr th {\n",
       "        vertical-align: top;\n",
       "    }\n",
       "\n",
       "    .dataframe thead th {\n",
       "        text-align: right;\n",
       "    }\n",
       "</style>\n",
       "<table border=\"1\" class=\"dataframe\">\n",
       "  <thead>\n",
       "    <tr style=\"text-align: right;\">\n",
       "      <th></th>\n",
       "      <th>_id</th>\n",
       "      <th>course</th>\n",
       "      <th>title</th>\n",
       "      <th>Score</th>\n",
       "    </tr>\n",
       "  </thead>\n",
       "  <tbody>\n",
       "    <tr>\n",
       "      <th>count</th>\n",
       "      <td>4</td>\n",
       "      <td>4</td>\n",
       "      <td>4</td>\n",
       "      <td>4.000000</td>\n",
       "    </tr>\n",
       "    <tr>\n",
       "      <th>unique</th>\n",
       "      <td>4</td>\n",
       "      <td>2</td>\n",
       "      <td>4</td>\n",
       "      <td>NaN</td>\n",
       "    </tr>\n",
       "    <tr>\n",
       "      <th>top</th>\n",
       "      <td>5e626848b8b8ba1208d1a484</td>\n",
       "      <td>Software Development</td>\n",
       "      <td>Artificial Intelligence</td>\n",
       "      <td>NaN</td>\n",
       "    </tr>\n",
       "    <tr>\n",
       "      <th>freq</th>\n",
       "      <td>1</td>\n",
       "      <td>3</td>\n",
       "      <td>1</td>\n",
       "      <td>NaN</td>\n",
       "    </tr>\n",
       "    <tr>\n",
       "      <th>mean</th>\n",
       "      <td>NaN</td>\n",
       "      <td>NaN</td>\n",
       "      <td>NaN</td>\n",
       "      <td>72.645841</td>\n",
       "    </tr>\n",
       "    <tr>\n",
       "      <th>std</th>\n",
       "      <td>NaN</td>\n",
       "      <td>NaN</td>\n",
       "      <td>NaN</td>\n",
       "      <td>13.690821</td>\n",
       "    </tr>\n",
       "    <tr>\n",
       "      <th>min</th>\n",
       "      <td>NaN</td>\n",
       "      <td>NaN</td>\n",
       "      <td>NaN</td>\n",
       "      <td>57.234714</td>\n",
       "    </tr>\n",
       "    <tr>\n",
       "      <th>25%</th>\n",
       "      <td>NaN</td>\n",
       "      <td>NaN</td>\n",
       "      <td>NaN</td>\n",
       "      <td>66.759391</td>\n",
       "    </tr>\n",
       "    <tr>\n",
       "      <th>50%</th>\n",
       "      <td>NaN</td>\n",
       "      <td>NaN</td>\n",
       "      <td>NaN</td>\n",
       "      <td>71.444027</td>\n",
       "    </tr>\n",
       "    <tr>\n",
       "      <th>75%</th>\n",
       "      <td>NaN</td>\n",
       "      <td>NaN</td>\n",
       "      <td>NaN</td>\n",
       "      <td>77.330477</td>\n",
       "    </tr>\n",
       "    <tr>\n",
       "      <th>max</th>\n",
       "      <td>NaN</td>\n",
       "      <td>NaN</td>\n",
       "      <td>NaN</td>\n",
       "      <td>90.460597</td>\n",
       "    </tr>\n",
       "  </tbody>\n",
       "</table>\n",
       "</div>"
      ],
      "text/plain": [
       "                             _id                course  \\\n",
       "count                          4                     4   \n",
       "unique                         4                     2   \n",
       "top     5e626848b8b8ba1208d1a484  Software Development   \n",
       "freq                           1                     3   \n",
       "mean                         NaN                   NaN   \n",
       "std                          NaN                   NaN   \n",
       "min                          NaN                   NaN   \n",
       "25%                          NaN                   NaN   \n",
       "50%                          NaN                   NaN   \n",
       "75%                          NaN                   NaN   \n",
       "max                          NaN                   NaN   \n",
       "\n",
       "                          title      Score  \n",
       "count                         4   4.000000  \n",
       "unique                        4        NaN  \n",
       "top     Artificial Intelligence        NaN  \n",
       "freq                          1        NaN  \n",
       "mean                        NaN  72.645841  \n",
       "std                         NaN  13.690821  \n",
       "min                         NaN  57.234714  \n",
       "25%                         NaN  66.759391  \n",
       "50%                         NaN  71.444027  \n",
       "75%                         NaN  77.330477  \n",
       "max                         NaN  90.460597  "
      ]
     },
     "execution_count": 46,
     "metadata": {},
     "output_type": "execute_result"
    }
   ],
   "source": [
    "df.describe(include='all')"
   ]
  },
  {
   "cell_type": "markdown",
   "metadata": {},
   "source": [
    "# Delete entire Database\n",
    "\n",
    "* `drop_database()` - will delete the entire database\n",
    "* `drop_many({})` - with no areguments will delete all documents from the database"
   ]
  },
  {
   "cell_type": "code",
   "execution_count": 47,
   "metadata": {},
   "outputs": [],
   "source": [
    "client.drop_database('pymongo_testDB')"
   ]
  },
  {
   "cell_type": "code",
   "execution_count": null,
   "metadata": {},
   "outputs": [],
   "source": []
  }
 ],
 "metadata": {
  "kernelspec": {
   "display_name": "Python 3",
   "language": "python",
   "name": "python3"
  },
  "language_info": {
   "codemirror_mode": {
    "name": "ipython",
    "version": 3
   },
   "file_extension": ".py",
   "mimetype": "text/x-python",
   "name": "python",
   "nbconvert_exporter": "python",
   "pygments_lexer": "ipython3",
   "version": "3.7.6"
  }
 },
 "nbformat": 4,
 "nbformat_minor": 2
}
